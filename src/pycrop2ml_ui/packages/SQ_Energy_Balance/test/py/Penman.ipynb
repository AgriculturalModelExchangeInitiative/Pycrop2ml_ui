{
 "cells": [
  {
   "cell_type": "markdown",
   "id": "27dd0a3e",
   "metadata": {},
   "source": [
    "# Automatic generation of Notebook using PyCropML\n",
    "    This notebook implements a crop model."
   ]
  },
  {
   "cell_type": "markdown",
   "id": "5e6d1dc8",
   "metadata": {},
   "source": [
    "### Model Penman"
   ]
  },
  {
   "cell_type": "code",
   "execution_count": null,
   "id": "41f1ade5",
   "metadata": {},
   "outputs": [],
   "source": [
    "import numpy\n",
    "from datetime import datetime\n",
    "import sys\n",
    "sys.path.append(\"../../src/py/SQ_Energy_Balance\")\n",
    "from Penman import model_penman\n"
   ]
  },
  {
   "cell_type": "code",
   "execution_count": null,
   "id": "cb8fa943",
   "metadata": {},
   "outputs": [],
   "source": [
    "params= model_penman(\n",
    "    Alpha = 1.5,\n",
    "    lambdaV = 2.454,\n",
    "    evapoTranspirationPriestlyTaylor = 449.367,\n",
    "    hslope = 0.584,\n",
    "    VPDair = 2.19,\n",
    "     )\n",
    "evapoTranspirationPenman_estimated = round(params, 3)\n",
    "evapoTranspirationPenman_computed = 830.958\n",
    "assert (evapoTranspirationPenman_estimated == evapoTranspirationPenman_computed)"
   ]
  }
 ],
 "metadata": {},
 "nbformat": 4,
 "nbformat_minor": 5
}
