{
 "cells": [
  {
   "cell_type": "markdown",
   "id": "1d8dff5d",
   "metadata": {},
   "source": [
    "# Automatic generation of Notebook using PyCropML\n",
    "    This notebook implements a crop model."
   ]
  },
  {
   "cell_type": "markdown",
   "id": "dd382ba2",
   "metadata": {},
   "source": [
    "### Model Conductance"
   ]
  },
  {
   "cell_type": "code",
   "execution_count": null,
   "id": "b4daac4b",
   "metadata": {},
   "outputs": [],
   "source": [
    "import numpy\n",
    "from datetime import datetime\n",
    "import sys\n",
    "sys.path.append(\"../../src/py/SQ_Energy_Balance\")\n",
    "from Conductance import model_conductance\n"
   ]
  },
  {
   "cell_type": "code",
   "execution_count": null,
   "id": "9c0d3324",
   "metadata": {},
   "outputs": [],
   "source": [
    "params= model_conductance(\n",
    "    d = 0.67,\n",
    "    zh = 0.013,\n",
    "    zm = 0.13,\n",
    "    wind = 124000,\n",
    "    plantHeight = 0,\n",
    "     )\n",
    "conductance_estimated = round(params, 3)\n",
    "conductance_computed = 598.685\n",
    "assert (conductance_estimated == conductance_computed)"
   ]
  }
 ],
 "metadata": {},
 "nbformat": 4,
 "nbformat_minor": 5
}
