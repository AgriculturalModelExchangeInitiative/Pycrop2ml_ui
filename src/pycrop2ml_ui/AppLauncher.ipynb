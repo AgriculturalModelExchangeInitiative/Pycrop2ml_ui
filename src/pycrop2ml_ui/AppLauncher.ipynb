{
 "cells": [
  {
   "cell_type": "code",
   "execution_count": 12,
   "metadata": {},
   "outputs": [
    {
     "data": {
      "application/vnd.jupyter.widget-view+json": {
       "model_id": "73744f75b5604a00b5f77ac0c86f0d2e",
       "version_major": 2,
       "version_minor": 0
      },
      "text/plain": [
       "Output()"
      ]
     },
     "metadata": {},
     "output_type": "display_data"
    },
    {
     "data": {
      "application/vnd.jupyter.widget-view+json": {
       "model_id": "f5ce5da2ad9f40c5a7a622c40f3060f5",
       "version_major": 2,
       "version_minor": 0
      },
      "text/plain": [
       "Output()"
      ]
     },
     "metadata": {},
     "output_type": "display_data"
    }
   ],
   "source": [
    "from pycrop2ml_ui.model.MainMenu import main\n",
    "main()\n",
    "\n"
   ]
  },
  {
   "cell_type": "code",
   "execution_count": 2,
   "metadata": {},
   "outputs": [],
   "source": [
    "from path import Path"
   ]
  },
  {
   "cell_type": "code",
   "execution_count": 3,
   "metadata": {},
   "outputs": [],
   "source": [
    "from pycropml.topology import Topology"
   ]
  },
  {
   "cell_type": "code",
   "execution_count": 6,
   "metadata": {},
   "outputs": [],
   "source": [
    "pkg1 = \"C:/Users/midingoy/Documents/THESE/pycropml_pheno/test/Models/energybalance_pkg\""
   ]
  },
  {
   "cell_type": "code",
   "execution_count": 7,
   "metadata": {},
   "outputs": [],
   "source": [
    "T = Topology(name='energybalance', pkg=pkg1)"
   ]
  },
  {
   "cell_type": "code",
   "execution_count": 8,
   "metadata": {},
   "outputs": [
    {
     "data": {
      "image/svg+xml": [
       "<svg height=\"548pt\" viewBox=\"0.00 0.00 658.13 548.00\" width=\"658pt\" xmlns=\"http://www.w3.org/2000/svg\" xmlns:xlink=\"http://www.w3.org/1999/xlink\">\n",
       "<g class=\"graph\" id=\"graph0\" transform=\"scale(1 1) rotate(0) translate(4 544)\">\n",
       "<title>EnergyBalance</title>\n",
       "<polygon fill=\"white\" points=\"-4,4 -4,-544 654.13,-544 654.13,4 -4,4\" stroke=\"transparent\"/>\n",
       "<!-- NetRadiation -->\n",
       "<g class=\"node\" id=\"node1\">\n",
       "<title>NetRadiation</title>\n",
       "<ellipse cx=\"369.64\" cy=\"-522\" fill=\"none\" rx=\"59.29\" ry=\"18\" stroke=\"black\"/>\n",
       "<text font-family=\"Times New Roman,serif\" font-size=\"14.00\" text-anchor=\"middle\" x=\"369.64\" y=\"-518.3\">NetRadiation</text>\n",
       "</g>\n",
       "<!-- NetRadiationEquivalentEvaporation -->\n",
       "<g class=\"node\" id=\"node2\">\n",
       "<title>NetRadiationEquivalentEvaporation</title>\n",
       "<ellipse cx=\"369.64\" cy=\"-450\" fill=\"none\" rx=\"142.97\" ry=\"18\" stroke=\"black\"/>\n",
       "<text font-family=\"Times New Roman,serif\" font-size=\"14.00\" text-anchor=\"middle\" x=\"369.64\" y=\"-446.3\">NetRadiationEquivalentEvaporation</text>\n",
       "</g>\n",
       "<!-- NetRadiation&#45;&gt;NetRadiationEquivalentEvaporation -->\n",
       "<g class=\"edge\" id=\"edge1\">\n",
       "<title>NetRadiation-&gt;NetRadiationEquivalentEvaporation</title>\n",
       "<path d=\"M369.64,-503.7C369.64,-495.98 369.64,-486.71 369.64,-478.11\" fill=\"none\" stroke=\"black\"/>\n",
       "<polygon fill=\"black\" points=\"373.14,-478.1 369.64,-468.1 366.14,-478.1 373.14,-478.1\" stroke=\"black\"/>\n",
       "</g>\n",
       "<!-- PriestlyTaylor -->\n",
       "<g class=\"node\" id=\"node3\">\n",
       "<title>PriestlyTaylor</title>\n",
       "<ellipse cx=\"369.64\" cy=\"-378\" fill=\"none\" rx=\"62.29\" ry=\"18\" stroke=\"black\"/>\n",
       "<text font-family=\"Times New Roman,serif\" font-size=\"14.00\" text-anchor=\"middle\" x=\"369.64\" y=\"-374.3\">PriestlyTaylor</text>\n",
       "</g>\n",
       "<!-- NetRadiationEquivalentEvaporation&#45;&gt;PriestlyTaylor -->\n",
       "<g class=\"edge\" id=\"edge2\">\n",
       "<title>NetRadiationEquivalentEvaporation-&gt;PriestlyTaylor</title>\n",
       "<path d=\"M369.64,-431.7C369.64,-423.98 369.64,-414.71 369.64,-406.11\" fill=\"none\" stroke=\"black\"/>\n",
       "<polygon fill=\"black\" points=\"373.14,-406.1 369.64,-396.1 366.14,-406.1 373.14,-406.1\" stroke=\"black\"/>\n",
       "</g>\n",
       "<!-- SoilHeatFlux -->\n",
       "<g class=\"node\" id=\"node10\">\n",
       "<title>SoilHeatFlux</title>\n",
       "<ellipse cx=\"177.64\" cy=\"-162\" fill=\"none\" rx=\"59.29\" ry=\"18\" stroke=\"black\"/>\n",
       "<text font-family=\"Times New Roman,serif\" font-size=\"14.00\" text-anchor=\"middle\" x=\"177.64\" y=\"-158.3\">SoilHeatFlux</text>\n",
       "</g>\n",
       "<!-- NetRadiationEquivalentEvaporation&#45;&gt;SoilHeatFlux -->\n",
       "<g class=\"edge\" id=\"edge3\">\n",
       "<title>NetRadiationEquivalentEvaporation-&gt;SoilHeatFlux</title>\n",
       "<path d=\"M244.76,-441.13C163.6,-428.76 63.4,-398.24 10.64,-324 -31.86,-264.21 70.67,-207.99 133.36,-180.54\" fill=\"none\" stroke=\"black\"/>\n",
       "<polygon fill=\"black\" points=\"134.86,-183.7 142.67,-176.54 132.1,-177.27 134.86,-183.7\" stroke=\"black\"/>\n",
       "</g>\n",
       "<!-- CropHeatFlux -->\n",
       "<g class=\"node\" id=\"node12\">\n",
       "<title>CropHeatFlux</title>\n",
       "<ellipse cx=\"419.64\" cy=\"-90\" fill=\"none\" rx=\"63.09\" ry=\"18\" stroke=\"black\"/>\n",
       "<text font-family=\"Times New Roman,serif\" font-size=\"14.00\" text-anchor=\"middle\" x=\"419.64\" y=\"-86.3\">CropHeatFlux</text>\n",
       "</g>\n",
       "<!-- NetRadiationEquivalentEvaporation&#45;&gt;CropHeatFlux -->\n",
       "<g class=\"edge\" id=\"edge4\">\n",
       "<title>NetRadiationEquivalentEvaporation-&gt;CropHeatFlux</title>\n",
       "<path d=\"M403.61,-432.33C443.89,-409.89 505.64,-365.88 505.64,-307 505.64,-307 505.64,-307 505.64,-233 505.64,-192.55 507.99,-178.36 486.64,-144 478.83,-131.43 466.93,-120.61 455.31,-112.08\" fill=\"none\" stroke=\"black\"/>\n",
       "<polygon fill=\"black\" points=\"457.18,-109.11 446.97,-106.28 453.19,-114.86 457.18,-109.11\" stroke=\"black\"/>\n",
       "</g>\n",
       "<!-- Penman -->\n",
       "<g class=\"node\" id=\"node6\">\n",
       "<title>Penman</title>\n",
       "<ellipse cx=\"437.64\" cy=\"-306\" fill=\"none\" rx=\"40.09\" ry=\"18\" stroke=\"black\"/>\n",
       "<text font-family=\"Times New Roman,serif\" font-size=\"14.00\" text-anchor=\"middle\" x=\"437.64\" y=\"-302.3\">Penman</text>\n",
       "</g>\n",
       "<!-- PriestlyTaylor&#45;&gt;Penman -->\n",
       "<g class=\"edge\" id=\"edge6\">\n",
       "<title>PriestlyTaylor-&gt;Penman</title>\n",
       "<path d=\"M385.76,-360.41C394.52,-351.39 405.5,-340.09 415.1,-330.21\" fill=\"none\" stroke=\"black\"/>\n",
       "<polygon fill=\"black\" points=\"417.65,-332.6 422.11,-322.99 412.63,-327.72 417.65,-332.6\" stroke=\"black\"/>\n",
       "</g>\n",
       "<!-- PtSoil -->\n",
       "<g class=\"node\" id=\"node7\">\n",
       "<title>PtSoil</title>\n",
       "<ellipse cx=\"308.64\" cy=\"-306\" fill=\"none\" rx=\"33.29\" ry=\"18\" stroke=\"black\"/>\n",
       "<text font-family=\"Times New Roman,serif\" font-size=\"14.00\" text-anchor=\"middle\" x=\"308.64\" y=\"-302.3\">PtSoil</text>\n",
       "</g>\n",
       "<!-- PriestlyTaylor&#45;&gt;PtSoil -->\n",
       "<g class=\"edge\" id=\"edge5\">\n",
       "<title>PriestlyTaylor-&gt;PtSoil</title>\n",
       "<path d=\"M355.18,-360.41C347.29,-351.35 337.39,-339.99 328.75,-330.08\" fill=\"none\" stroke=\"black\"/>\n",
       "<polygon fill=\"black\" points=\"331.37,-327.75 322.16,-322.51 326.09,-332.35 331.37,-327.75\" stroke=\"black\"/>\n",
       "</g>\n",
       "<!-- EvapoTranspiration -->\n",
       "<g class=\"node\" id=\"node9\">\n",
       "<title>EvapoTranspiration</title>\n",
       "<ellipse cx=\"385.64\" cy=\"-234\" fill=\"none\" rx=\"82.59\" ry=\"18\" stroke=\"black\"/>\n",
       "<text font-family=\"Times New Roman,serif\" font-size=\"14.00\" text-anchor=\"middle\" x=\"385.64\" y=\"-230.3\">EvapoTranspiration</text>\n",
       "</g>\n",
       "<!-- PriestlyTaylor&#45;&gt;EvapoTranspiration -->\n",
       "<g class=\"edge\" id=\"edge7\">\n",
       "<title>PriestlyTaylor-&gt;EvapoTranspiration</title>\n",
       "<path d=\"M371.57,-359.87C374.3,-335.67 379.31,-291.21 382.55,-262.39\" fill=\"none\" stroke=\"black\"/>\n",
       "<polygon fill=\"black\" points=\"386.06,-262.52 383.7,-252.19 379.11,-261.73 386.06,-262.52\" stroke=\"black\"/>\n",
       "</g>\n",
       "<!-- Conductance -->\n",
       "<g class=\"node\" id=\"node4\">\n",
       "<title>Conductance</title>\n",
       "<ellipse cx=\"591.64\" cy=\"-378\" fill=\"none\" rx=\"58.49\" ry=\"18\" stroke=\"black\"/>\n",
       "<text font-family=\"Times New Roman,serif\" font-size=\"14.00\" text-anchor=\"middle\" x=\"591.64\" y=\"-374.3\">Conductance</text>\n",
       "</g>\n",
       "<!-- Conductance&#45;&gt;Penman -->\n",
       "<g class=\"edge\" id=\"edge8\">\n",
       "<title>Conductance-&gt;Penman</title>\n",
       "<path d=\"M560.1,-362.67C535.1,-351.3 500.14,-335.41 473.97,-323.51\" fill=\"none\" stroke=\"black\"/>\n",
       "<polygon fill=\"black\" points=\"475.31,-320.28 464.76,-319.33 472.41,-326.65 475.31,-320.28\" stroke=\"black\"/>\n",
       "</g>\n",
       "<!-- CanopyTemperature -->\n",
       "<g class=\"node\" id=\"node13\">\n",
       "<title>CanopyTemperature</title>\n",
       "<ellipse cx=\"464.64\" cy=\"-18\" fill=\"none\" rx=\"85.29\" ry=\"18\" stroke=\"black\"/>\n",
       "<text font-family=\"Times New Roman,serif\" font-size=\"14.00\" text-anchor=\"middle\" x=\"464.64\" y=\"-14.3\">CanopyTemperature</text>\n",
       "</g>\n",
       "<!-- Conductance&#45;&gt;CanopyTemperature -->\n",
       "<g class=\"edge\" id=\"edge9\">\n",
       "<title>Conductance-&gt;CanopyTemperature</title>\n",
       "<path d=\"M586.78,-359.67C579.77,-333.08 567.64,-280.5 567.64,-235 567.64,-235 567.64,-235 567.64,-161 567.64,-111.24 525.68,-67.15 495.32,-41.76\" fill=\"none\" stroke=\"black\"/>\n",
       "<polygon fill=\"black\" points=\"497.47,-39 487.5,-35.42 493.06,-44.44 497.47,-39\" stroke=\"black\"/>\n",
       "</g>\n",
       "<!-- DiffusionLimitedEvaporation -->\n",
       "<g class=\"node\" id=\"node5\">\n",
       "<title>DiffusionLimitedEvaporation</title>\n",
       "<ellipse cx=\"138.64\" cy=\"-306\" fill=\"none\" rx=\"118.88\" ry=\"18\" stroke=\"black\"/>\n",
       "<text font-family=\"Times New Roman,serif\" font-size=\"14.00\" text-anchor=\"middle\" x=\"138.64\" y=\"-302.3\">DiffusionLimitedEvaporation</text>\n",
       "</g>\n",
       "<!-- SoilEvaporation -->\n",
       "<g class=\"node\" id=\"node8\">\n",
       "<title>SoilEvaporation</title>\n",
       "<ellipse cx=\"177.64\" cy=\"-234\" fill=\"none\" rx=\"69.59\" ry=\"18\" stroke=\"black\"/>\n",
       "<text font-family=\"Times New Roman,serif\" font-size=\"14.00\" text-anchor=\"middle\" x=\"177.64\" y=\"-230.3\">SoilEvaporation</text>\n",
       "</g>\n",
       "<!-- DiffusionLimitedEvaporation&#45;&gt;SoilEvaporation -->\n",
       "<g class=\"edge\" id=\"edge10\">\n",
       "<title>DiffusionLimitedEvaporation-&gt;SoilEvaporation</title>\n",
       "<path d=\"M148.08,-288.05C152.56,-280.01 158.03,-270.2 163.03,-261.23\" fill=\"none\" stroke=\"black\"/>\n",
       "<polygon fill=\"black\" points=\"166.21,-262.71 168.02,-252.28 160.09,-259.31 166.21,-262.71\" stroke=\"black\"/>\n",
       "</g>\n",
       "<!-- Penman&#45;&gt;EvapoTranspiration -->\n",
       "<g class=\"edge\" id=\"edge11\">\n",
       "<title>Penman-&gt;EvapoTranspiration</title>\n",
       "<path d=\"M425.58,-288.76C419.33,-280.35 411.56,-269.89 404.54,-260.44\" fill=\"none\" stroke=\"black\"/>\n",
       "<polygon fill=\"black\" points=\"407.13,-258.06 398.36,-252.12 401.51,-262.24 407.13,-258.06\" stroke=\"black\"/>\n",
       "</g>\n",
       "<!-- PtSoil&#45;&gt;SoilEvaporation -->\n",
       "<g class=\"edge\" id=\"edge12\">\n",
       "<title>PtSoil-&gt;SoilEvaporation</title>\n",
       "<path d=\"M285.82,-292.81C266.49,-282.48 238.38,-267.46 215.66,-255.32\" fill=\"none\" stroke=\"black\"/>\n",
       "<polygon fill=\"black\" points=\"217.08,-252.11 206.61,-250.48 213.78,-258.28 217.08,-252.11\" stroke=\"black\"/>\n",
       "</g>\n",
       "<!-- SoilEvaporation&#45;&gt;SoilHeatFlux -->\n",
       "<g class=\"edge\" id=\"edge13\">\n",
       "<title>SoilEvaporation-&gt;SoilHeatFlux</title>\n",
       "<path d=\"M177.64,-215.7C177.64,-207.98 177.64,-198.71 177.64,-190.11\" fill=\"none\" stroke=\"black\"/>\n",
       "<polygon fill=\"black\" points=\"181.14,-190.1 177.64,-180.1 174.14,-190.1 181.14,-190.1\" stroke=\"black\"/>\n",
       "</g>\n",
       "<!-- PotentialTranspiration -->\n",
       "<g class=\"node\" id=\"node11\">\n",
       "<title>PotentialTranspiration</title>\n",
       "<ellipse cx=\"385.64\" cy=\"-162\" fill=\"none\" rx=\"91.78\" ry=\"18\" stroke=\"black\"/>\n",
       "<text font-family=\"Times New Roman,serif\" font-size=\"14.00\" text-anchor=\"middle\" x=\"385.64\" y=\"-158.3\">PotentialTranspiration</text>\n",
       "</g>\n",
       "<!-- EvapoTranspiration&#45;&gt;PotentialTranspiration -->\n",
       "<g class=\"edge\" id=\"edge14\">\n",
       "<title>EvapoTranspiration-&gt;PotentialTranspiration</title>\n",
       "<path d=\"M385.64,-215.7C385.64,-207.98 385.64,-198.71 385.64,-190.11\" fill=\"none\" stroke=\"black\"/>\n",
       "<polygon fill=\"black\" points=\"389.14,-190.1 385.64,-180.1 382.14,-190.1 389.14,-190.1\" stroke=\"black\"/>\n",
       "</g>\n",
       "<!-- SoilHeatFlux&#45;&gt;CropHeatFlux -->\n",
       "<g class=\"edge\" id=\"edge15\">\n",
       "<title>SoilHeatFlux-&gt;CropHeatFlux</title>\n",
       "<path d=\"M218.97,-149.05C259.88,-137.21 322.67,-119.05 367.11,-106.2\" fill=\"none\" stroke=\"black\"/>\n",
       "<polygon fill=\"black\" points=\"368.22,-109.52 376.86,-103.38 366.28,-102.79 368.22,-109.52\" stroke=\"black\"/>\n",
       "</g>\n",
       "<!-- PotentialTranspiration&#45;&gt;CropHeatFlux -->\n",
       "<g class=\"edge\" id=\"edge16\">\n",
       "<title>PotentialTranspiration-&gt;CropHeatFlux</title>\n",
       "<path d=\"M393.87,-144.05C397.74,-136.09 402.44,-126.41 406.76,-117.51\" fill=\"none\" stroke=\"black\"/>\n",
       "<polygon fill=\"black\" points=\"410.03,-118.8 411.25,-108.28 403.73,-115.74 410.03,-118.8\" stroke=\"black\"/>\n",
       "</g>\n",
       "<!-- CropHeatFlux&#45;&gt;CanopyTemperature -->\n",
       "<g class=\"edge\" id=\"edge17\">\n",
       "<title>CropHeatFlux-&gt;CanopyTemperature</title>\n",
       "<path d=\"M430.53,-72.05C435.76,-63.92 442.14,-54 447.96,-44.94\" fill=\"none\" stroke=\"black\"/>\n",
       "<polygon fill=\"black\" points=\"451.07,-46.58 453.53,-36.28 445.18,-42.79 451.07,-46.58\" stroke=\"black\"/>\n",
       "</g>\n",
       "</g>\n",
       "</svg>"
      ],
      "text/plain": [
       "<IPython.core.display.SVG object>"
      ]
     },
     "metadata": {},
     "output_type": "display_data"
    }
   ],
   "source": [
    "T.display_wf_svg()\n"
   ]
  },
  {
   "cell_type": "code",
   "execution_count": 17,
   "metadata": {},
   "outputs": [
    {
     "data": {
      "application/vnd.jupyter.widget-view+json": {
       "model_id": "4d4fa293820c4b2884fe88a8b5dcbe10",
       "version_major": 2,
       "version_minor": 0
      },
      "text/plain": [
       "Button(style=ButtonStyle())"
      ]
     },
     "metadata": {},
     "output_type": "display_data"
    }
   ],
   "source": [
    "from ipywidgets import Button\n",
    "\n",
    "Button()"
   ]
  },
  {
   "cell_type": "code",
   "execution_count": 14,
   "metadata": {},
   "outputs": [],
   "source": [
    "import qgrid\n",
    "import pandas as pd"
   ]
  },
  {
   "cell_type": "code",
   "execution_count": 15,
   "metadata": {},
   "outputs": [],
   "source": [
    "df = pd.read_csv(\"C:/Users/midingoy/Documents/datascience/foo.csv\",\";\", header=0)"
   ]
  },
  {
   "cell_type": "code",
   "execution_count": 16,
   "metadata": {},
   "outputs": [
    {
     "data": {
      "application/vnd.jupyter.widget-view+json": {
       "model_id": "c6c82b1b1bb84cd2bf9379b36028046c",
       "version_major": 2,
       "version_minor": 0
      },
      "text/plain": [
       "QgridWidget(grid_options={'fullWidthRows': True, 'syncColumnCellResize': True, 'forceFitColumns': True, 'defau…"
      ]
     },
     "metadata": {},
     "output_type": "display_data"
    }
   ],
   "source": [
    "qgrid.show_grid(df)"
   ]
  },
  {
   "cell_type": "code",
   "execution_count": 11,
   "metadata": {},
   "outputs": [
    {
     "data": {
      "text/html": [
       "<div>\n",
       "<style scoped>\n",
       "    .dataframe tbody tr th:only-of-type {\n",
       "        vertical-align: middle;\n",
       "    }\n",
       "\n",
       "    .dataframe tbody tr th {\n",
       "        vertical-align: top;\n",
       "    }\n",
       "\n",
       "    .dataframe thead th {\n",
       "        text-align: right;\n",
       "    }\n",
       "</style>\n",
       "<table border=\"1\" class=\"dataframe\">\n",
       "  <thead>\n",
       "    <tr style=\"text-align: right;\">\n",
       "      <th></th>\n",
       "      <th>-9.281203475056994945e-01</th>\n",
       "      <th>-9.593804667257431751e-01</th>\n",
       "      <th>-6.793862718785819155e-01</th>\n",
       "      <th>-6.256473228701927569e-01</th>\n",
       "      <th>-9.801787218431988746e-01</th>\n",
       "      <th>-6.941573215145719900e-01</th>\n",
       "    </tr>\n",
       "  </thead>\n",
       "  <tbody>\n",
       "    <tr>\n",
       "      <th>0</th>\n",
       "      <td>0.116253</td>\n",
       "      <td>0.022715</td>\n",
       "      <td>0.496113</td>\n",
       "      <td>-0.705285</td>\n",
       "      <td>-0.025998</td>\n",
       "      <td>-0.265842</td>\n",
       "    </tr>\n",
       "    <tr>\n",
       "      <th>1</th>\n",
       "      <td>-0.293436</td>\n",
       "      <td>-0.178551</td>\n",
       "      <td>0.540475</td>\n",
       "      <td>0.330975</td>\n",
       "      <td>-0.133264</td>\n",
       "      <td>-0.150578</td>\n",
       "    </tr>\n",
       "    <tr>\n",
       "      <th>2</th>\n",
       "      <td>0.186334</td>\n",
       "      <td>-0.207498</td>\n",
       "      <td>0.012042</td>\n",
       "      <td>0.032593</td>\n",
       "      <td>-0.002493</td>\n",
       "      <td>-0.343448</td>\n",
       "    </tr>\n",
       "  </tbody>\n",
       "</table>\n",
       "</div>"
      ],
      "text/plain": [
       "   -9.281203475056994945e-01  -9.593804667257431751e-01  \\\n",
       "0                   0.116253                   0.022715   \n",
       "1                  -0.293436                  -0.178551   \n",
       "2                   0.186334                  -0.207498   \n",
       "\n",
       "   -6.793862718785819155e-01  -6.256473228701927569e-01  \\\n",
       "0                   0.496113                  -0.705285   \n",
       "1                   0.540475                   0.330975   \n",
       "2                   0.012042                   0.032593   \n",
       "\n",
       "   -9.801787218431988746e-01  -6.941573215145719900e-01  \n",
       "0                  -0.025998                  -0.265842  \n",
       "1                  -0.133264                  -0.150578  \n",
       "2                  -0.002493                  -0.343448  "
      ]
     },
     "execution_count": 11,
     "metadata": {},
     "output_type": "execute_result"
    }
   ],
   "source": [
    "df\n"
   ]
  },
  {
   "cell_type": "code",
   "execution_count": 12,
   "metadata": {},
   "outputs": [],
   "source": [
    "import pandas as pd"
   ]
  },
  {
   "cell_type": "code",
   "execution_count": 13,
   "metadata": {},
   "outputs": [
    {
     "data": {
      "text/plain": [
       "'0.24.2'"
      ]
     },
     "execution_count": 13,
     "metadata": {},
     "output_type": "execute_result"
    }
   ],
   "source": [
    "pd.__version__"
   ]
  },
  {
   "cell_type": "code",
   "execution_count": 14,
   "metadata": {},
   "outputs": [],
   "source": [
    "import numpy as np"
   ]
  },
  {
   "cell_type": "code",
   "execution_count": 15,
   "metadata": {},
   "outputs": [
    {
     "data": {
      "text/plain": [
       "'1.16.2'"
      ]
     },
     "execution_count": 15,
     "metadata": {},
     "output_type": "execute_result"
    }
   ],
   "source": [
    "np.__version__"
   ]
  },
  {
   "cell_type": "code",
   "execution_count": 16,
   "metadata": {},
   "outputs": [
    {
     "data": {
      "text/plain": [
       "'1.1.1'"
      ]
     },
     "execution_count": 16,
     "metadata": {},
     "output_type": "execute_result"
    }
   ],
   "source": [
    "import qgrid\n",
    "qgrid.__version__"
   ]
  },
  {
   "cell_type": "code",
   "execution_count": 18,
   "metadata": {},
   "outputs": [
    {
     "name": "stderr",
     "output_type": "stream",
     "text": [
      "JupyterLab v0.35.6\n",
      "Known labextensions:\n",
      "   app dir: C:\\Users\\midingoy\\Anaconda3\\envs\\py36\\share\\jupyter\\lab\n",
      "        @8080labs/qgrid v1.1.1 enabled  ok\n",
      "        @jupyter-widgets/jupyterlab-manager v0.38.1 enabled  ok\n",
      "        jupyterlab_xkcd v2.0.0 enabled  ok\n"
     ]
    }
   ],
   "source": [
    "!jupyter labextension list"
   ]
  },
  {
   "cell_type": "code",
   "execution_count": null,
   "metadata": {},
   "outputs": [],
   "source": []
  },
  {
   "cell_type": "code",
   "execution_count": 19,
   "metadata": {},
   "outputs": [],
   "source": [
    "import pytz"
   ]
  },
  {
   "cell_type": "code",
   "execution_count": 20,
   "metadata": {},
   "outputs": [
    {
     "ename": "ModuleNotFoundError",
     "evalue": "No module named 'flask'",
     "output_type": "error",
     "traceback": [
      "\u001b[1;31m---------------------------------------------------------------------------\u001b[0m",
      "\u001b[1;31mModuleNotFoundError\u001b[0m                       Traceback (most recent call last)",
      "\u001b[1;32m<ipython-input-20-6449541b70b5>\u001b[0m in \u001b[0;36m<module>\u001b[1;34m\u001b[0m\n\u001b[1;32m----> 1\u001b[1;33m \u001b[1;32mfrom\u001b[0m \u001b[0mflask\u001b[0m \u001b[1;32mimport\u001b[0m \u001b[0mFlask\u001b[0m\u001b[1;33m,\u001b[0m \u001b[0mredirect\u001b[0m\u001b[1;33m,\u001b[0m \u001b[0murl_for\u001b[0m\u001b[1;33m,\u001b[0m \u001b[0mrender_template\u001b[0m\u001b[1;33m,\u001b[0m \u001b[0mrequest\u001b[0m\u001b[1;33m,\u001b[0m \u001b[0mflash\u001b[0m\u001b[1;33m\u001b[0m\u001b[1;33m\u001b[0m\u001b[0m\n\u001b[0m",
      "\u001b[1;31mModuleNotFoundError\u001b[0m: No module named 'flask'"
     ]
    }
   ],
   "source": [
    "from flask import Flask, redirect, url_for, render_template, request, flash"
   ]
  },
  {
   "cell_type": "code",
   "execution_count": null,
   "metadata": {},
   "outputs": [],
   "source": []
  }
 ],
 "metadata": {
  "kernelspec": {
   "display_name": "Python 3",
   "language": "python",
   "name": "python3"
  },
  "language_info": {
   "codemirror_mode": {
    "name": "ipython",
    "version": 3
   },
   "file_extension": ".py",
   "mimetype": "text/x-python",
   "name": "python",
   "nbconvert_exporter": "python",
   "pygments_lexer": "ipython3",
   "version": "3.7.7"
  }
 },
 "nbformat": 4,
 "nbformat_minor": 4
}
