{
 "cells": [
  {
   "cell_type": "markdown",
   "id": "9f389ce7",
   "metadata": {},
   "source": [
    "# Automatic generation of Notebook using PyCropML\n",
    "    This notebook implements a crop model."
   ]
  },
  {
   "cell_type": "markdown",
   "id": "388eefdf",
   "metadata": {},
   "source": [
    "### Model Canopytemperature"
   ]
  },
  {
   "cell_type": "code",
   "execution_count": 1,
   "id": "e49c6ec1",
   "metadata": {},
   "outputs": [],
   "source": [
    "import numpy\n",
    "from datetime import datetime\n",
    "import sys\n",
    "sys.path.append(\"../../src/py/SQ_Energy_Balance\")\n",
    "from Canopytemperature import model_canopytemperature\n"
   ]
  },
  {
   "cell_type": "code",
   "execution_count": 5,
   "id": "8530dd83",
   "metadata": {},
   "outputs": [],
   "source": [
    "params= model_canopytemperature(\n",
    "    rhoDensityAir = 1.225,\n",
    "    minTair = 0.7,\n",
    "    maxTair = 7.2,\n",
    "     )\n",
    "minCanopyTemperature_estimated = round(params[0], 3)\n",
    "minCanopyTemperature_computed = 2.184\n",
    "assert (minCanopyTemperature_estimated == minCanopyTemperature_computed)\n",
    "maxCanopyTemperature_estimated = round(params[1], 3)\n",
    "maxCanopyTemperature_computed = 8.684\n",
    "assert (maxCanopyTemperature_estimated == maxCanopyTemperature_computed)"
   ]
  },
  {
   "cell_type": "code",
   "execution_count": null,
   "id": "0c9b63da",
   "metadata": {},
   "outputs": [],
   "source": []
  }
 ],
 "metadata": {
  "kernelspec": {
   "display_name": "Python 3 (ipykernel)",
   "language": "python",
   "name": "python3"
  },
  "language_info": {
   "codemirror_mode": {
    "name": "ipython",
    "version": 3
   },
   "file_extension": ".py",
   "mimetype": "text/x-python",
   "name": "python",
   "nbconvert_exporter": "python",
   "pygments_lexer": "ipython3",
   "version": "3.7.7"
  }
 },
 "nbformat": 4,
 "nbformat_minor": 5
}
