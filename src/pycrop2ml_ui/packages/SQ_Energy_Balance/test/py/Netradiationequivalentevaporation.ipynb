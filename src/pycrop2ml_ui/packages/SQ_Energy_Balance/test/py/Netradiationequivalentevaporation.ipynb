{
 "cells": [
  {
   "cell_type": "markdown",
   "id": "be136692",
   "metadata": {},
   "source": [
    "# Automatic generation of Notebook using PyCropML\n",
    "    This notebook implements a crop model."
   ]
  },
  {
   "cell_type": "markdown",
   "id": "019974be",
   "metadata": {},
   "source": [
    "### Model Netradiationequivalentevaporation"
   ]
  },
  {
   "cell_type": "code",
   "execution_count": null,
   "id": "b9636083",
   "metadata": {},
   "outputs": [],
   "source": [
    "import numpy\n",
    "from datetime import datetime\n",
    "import sys\n",
    "sys.path.append(\"../../src/py/SQ_Energy_Balance\")\n",
    "from Netradiationequivalentevaporation import model_netradiationequivalentevaporation\n"
   ]
  },
  {
   "cell_type": "code",
   "execution_count": null,
   "id": "d20116ed",
   "metadata": {},
   "outputs": [],
   "source": [
    "params= model_netradiationequivalentevaporation(\n",
    "    netRadiation = 1.566,\n",
    "     )\n",
    "netRadiationEquivalentEvaporation_estimated = round(params, 3)\n",
    "netRadiationEquivalentEvaporation_computed = 638.142\n",
    "assert (netRadiationEquivalentEvaporation_estimated == netRadiationEquivalentEvaporation_computed)"
   ]
  }
 ],
 "metadata": {},
 "nbformat": 4,
 "nbformat_minor": 5
}
