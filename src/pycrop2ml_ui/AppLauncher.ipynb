{
 "cells": [
  {
   "cell_type": "code",
   "execution_count": 1,
   "metadata": {},
   "outputs": [
    {
     "ename": "SyntaxError",
     "evalue": "invalid syntax (managetestset.py, line 487)",
     "output_type": "error",
     "traceback": [
      "Traceback \u001b[1;36m(most recent call last)\u001b[0m:\n",
      "  File \u001b[0;32m\"C:\\Users\\Romaric\\Anaconda3\\envs\\ipywg-ext\\lib\\site-packages\\IPython\\core\\interactiveshell.py\"\u001b[0m, line \u001b[0;32m3296\u001b[0m, in \u001b[0;35mrun_code\u001b[0m\n    exec(code_obj, self.user_global_ns, self.user_ns)\n",
      "  File \u001b[0;32m\"<ipython-input-1-2d6ce52bf537>\"\u001b[0m, line \u001b[0;32m1\u001b[0m, in \u001b[0;35m<module>\u001b[0m\n    from pycrop2ml_ui.model.MainMenu import main\n",
      "  File \u001b[0;32m\"c:\\users\\romaric\\pycrop2ml_ui\\src\\pycrop2ml_ui\\model\\MainMenu.py\"\u001b[0m, line \u001b[0;32m4\u001b[0m, in \u001b[0;35m<module>\u001b[0m\n    from pycrop2ml_ui.menus.creation import createmenu\n",
      "  File \u001b[0;32m\"c:\\users\\romaric\\pycrop2ml_ui\\src\\pycrop2ml_ui\\menus\\creation\\createmenu.py\"\u001b[0m, line \u001b[0;32m7\u001b[0m, in \u001b[0;35m<module>\u001b[0m\n    from pycrop2ml_ui.menus.creation import createunit\n",
      "  File \u001b[0;32m\"c:\\users\\romaric\\pycrop2ml_ui\\src\\pycrop2ml_ui\\menus\\creation\\createunit.py\"\u001b[0m, line \u001b[0;32m10\u001b[0m, in \u001b[0;35m<module>\u001b[0m\n    from pycrop2ml_ui.menus.setsmanagement import manageparamset\n",
      "\u001b[1;36m  File \u001b[1;32m\"c:\\users\\romaric\\pycrop2ml_ui\\src\\pycrop2ml_ui\\menus\\setsmanagement\\manageparamset.py\"\u001b[1;36m, line \u001b[1;32m11\u001b[1;36m, in \u001b[1;35m<module>\u001b[1;36m\u001b[0m\n\u001b[1;33m    from pycrop2ml_ui.menus.setsmanagement import managetestset\u001b[0m\n",
      "\u001b[1;36m  File \u001b[1;32m\"c:\\users\\romaric\\pycrop2ml_ui\\src\\pycrop2ml_ui\\menus\\setsmanagement\\managetestset.py\"\u001b[1;36m, line \u001b[1;32m487\u001b[0m\n\u001b[1;33m    elif testsetname.value and description.value and any([paramset.value, paramset.options == ('')):\u001b[0m\n\u001b[1;37m                                                                                                  ^\u001b[0m\n\u001b[1;31mSyntaxError\u001b[0m\u001b[1;31m:\u001b[0m invalid syntax\n"
     ]
    }
   ],
   "source": [
    "from pycrop2ml_ui.model.MainMenu import main\n",
    "main()"
   ]
  },
  {
   "cell_type": "code",
   "execution_count": 5,
   "metadata": {},
   "outputs": [
    {
     "name": "stdout",
     "output_type": "stream",
     "text": [
      "ModelComposition\n",
      "Description\n",
      "Composition\n",
      "Model\n",
      "Model\n",
      "Model\n",
      "Model\n",
      "Model\n",
      "Model\n",
      "Model\n",
      "Model\n",
      "Model\n",
      "Model\n",
      "Model\n",
      "Model\n",
      "Model\n",
      "link\n"
     ]
    }
   ],
   "source": [
    "from pycropml.topology import Topology\n",
    "path = Topology('energybalance_pkg', pkg='C:\\\\Users\\\\Romaric\\\\PyCrop2ML\\\\backup_example\\\\transpiler\\\\energybalance_pkg')"
   ]
  },
  {
   "cell_type": "code",
   "execution_count": 10,
   "metadata": {},
   "outputs": [
    {
     "data": {
      "text/plain": [
       "'SQ.energybalance_pkg.CanopyTemperature'"
      ]
     },
     "execution_count": 10,
     "metadata": {},
     "output_type": "execute_result"
    }
   ],
   "source": [
    "from pycropml.pparse import model_parser\n",
    "parsing = model_parser('C:\\\\Users\\\\Romaric\\\\PyCrop2ML\\\\backup_example\\\\transpiler\\\\energybalance_pkg')\n",
    "parsing[0].modelid"
   ]
  },
  {
   "cell_type": "code",
   "execution_count": null,
   "metadata": {},
   "outputs": [],
   "source": []
  }
 ],
 "metadata": {
  "kernelspec": {
   "display_name": "Python 3",
   "language": "python",
   "name": "python3"
  },
  "language_info": {
   "codemirror_mode": {
    "name": "ipython",
    "version": 3
   },
   "file_extension": ".py",
   "mimetype": "text/x-python",
   "name": "python",
   "nbconvert_exporter": "python",
   "pygments_lexer": "ipython3",
   "version": "3.7.3"
  }
 },
 "nbformat": 4,
 "nbformat_minor": 2
}
