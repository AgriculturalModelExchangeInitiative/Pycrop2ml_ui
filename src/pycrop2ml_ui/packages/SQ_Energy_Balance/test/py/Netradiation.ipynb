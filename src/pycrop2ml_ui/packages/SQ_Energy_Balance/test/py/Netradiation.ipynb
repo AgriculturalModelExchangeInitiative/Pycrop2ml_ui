{
 "cells": [
  {
   "cell_type": "markdown",
   "id": "12d1696c",
   "metadata": {},
   "source": [
    "# Automatic generation of Notebook using PyCropML\n",
    "    This notebook implements a crop model."
   ]
  },
  {
   "cell_type": "markdown",
   "id": "805b75d8",
   "metadata": {},
   "source": [
    "### Model Netradiation"
   ]
  },
  {
   "cell_type": "code",
   "execution_count": null,
   "id": "f5ba2a75",
   "metadata": {},
   "outputs": [],
   "source": [
    "import numpy\n",
    "from datetime import datetime\n",
    "import sys\n",
    "sys.path.append(\"../../src/py/SQ_Energy_Balance\")\n",
    "from Netradiation import model_netradiation\n"
   ]
  },
  {
   "cell_type": "code",
   "execution_count": null,
   "id": "ba6e7d45",
   "metadata": {},
   "outputs": [],
   "source": [
    "params= model_netradiation(\n",
    "    elevation = 0,\n",
    "    solarRadiation = 3,\n",
    "    vaporPressure = 6.1,\n",
    "     )\n",
    "netRadiation_estimated = round(params[0], 3)\n",
    "netRadiation_computed = 1.566\n",
    "assert (netRadiation_estimated == netRadiation_computed)\n",
    "netOutGoingLongWaveRadiation_estimated = round(params[1], 3)\n",
    "netOutGoingLongWaveRadiation_computed = 0.744\n",
    "assert (netOutGoingLongWaveRadiation_estimated == netOutGoingLongWaveRadiation_computed)"
   ]
  }
 ],
 "metadata": {},
 "nbformat": 4,
 "nbformat_minor": 5
}
