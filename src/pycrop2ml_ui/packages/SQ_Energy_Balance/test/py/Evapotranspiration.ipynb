{
 "cells": [
  {
   "cell_type": "markdown",
   "id": "4ac3441d",
   "metadata": {},
   "source": [
    "# Automatic generation of Notebook using PyCropML\n",
    "    This notebook implements a crop model."
   ]
  },
  {
   "cell_type": "markdown",
   "id": "432117d2",
   "metadata": {},
   "source": [
    "### Model Evapotranspiration"
   ]
  },
  {
   "cell_type": "code",
   "execution_count": null,
   "id": "1aff0b59",
   "metadata": {},
   "outputs": [],
   "source": [
    "import numpy\n",
    "from datetime import datetime\n",
    "import sys\n",
    "sys.path.append(\"../../src/py/SQ_Energy_Balance\")\n",
    "from Evapotranspiration import model_evapotranspiration\n"
   ]
  },
  {
   "cell_type": "code",
   "execution_count": null,
   "id": "d62c53e9",
   "metadata": {},
   "outputs": [],
   "source": [
    "params= model_evapotranspiration(\n",
    "    isWindVpDefined = 1,\n",
    "    evapoTranspirationPriestlyTaylor = 449.367,\n",
    "    evapoTranspirationPenman = 830.957,\n",
    "     )\n",
    "evapoTranspiration_estimated = round(params, 3)\n",
    "evapoTranspiration_computed = 830.957\n",
    "assert (evapoTranspiration_estimated == evapoTranspiration_computed)"
   ]
  }
 ],
 "metadata": {},
 "nbformat": 4,
 "nbformat_minor": 5
}
