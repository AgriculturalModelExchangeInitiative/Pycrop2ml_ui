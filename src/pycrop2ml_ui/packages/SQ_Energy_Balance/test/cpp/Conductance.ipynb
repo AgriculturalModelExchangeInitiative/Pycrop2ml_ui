{
 "cells": [
  {
   "cell_type": "markdown",
   "id": "278963c0",
   "metadata": {},
   "source": [
    "# Automatic generation of Notebook using PyCropML\n",
    "    This notebook implements a crop model."
   ]
  },
  {
   "cell_type": "markdown",
   "id": "3c635a8e",
   "metadata": {},
   "source": [
    "### Model Conductance"
   ]
  },
  {
   "cell_type": "code",
   "execution_count": null,
   "id": "8b9241ac",
   "metadata": {},
   "outputs": [],
   "source": [
    "#include \"../../src/cpp/SQ_Energy_Balance/EnergybalanceState.cpp\"\n",
    "#include \"../../src/cpp/SQ_Energy_Balance/EnergybalanceRate.cpp\"\n",
    "#include \"../../src/cpp/SQ_Energy_Balance/EnergybalanceAuxiliary.cpp\"\n",
    "#include \"../../src/cpp/SQ_Energy_Balance/EnergybalanceExogenous.cpp\"\n",
    "#include \"../../src/cpp/SQ_Energy_Balance/Conductance.cpp\"\n"
   ]
  },
  {
   "cell_type": "code",
   "execution_count": null,
   "id": "3b25df23",
   "metadata": {},
   "outputs": [],
   "source": [
    "class Test\n",
    "{\n",
    "    private:\n",
    "        EnergybalanceState s;\n",
    "        EnergybalanceState s1;\n",
    "        EnergybalanceRate r;\n",
    "        EnergybalanceAuxiliary a;\n",
    "        EnergybalanceExogenous ex;\n",
    "        Conductance mod;\n",
    "    public:\n",
    "        //first\n",
    "\n",
    "        // test1\n",
    "        void test1()\n",
    "        {\n",
    "            this->mod.setd(0.67);\n",
    "            this->mod.setzh(0.013);\n",
    "            this->mod.setzm(0.13);\n",
    "            this->a.setwind(124000);\n",
    "            this->a.setplantHeight(0);\n",
    "            this->mod.setvonKarman(0.42);\n",
    "            this->mod.setheightWeatherMeasurements(2);\n",
    "            this->mod.Calculate_Model(s,s1, r, a, ex);\n",
    "            //conductance: 598.685;\n",
    "            cout << \"conductance estimated :\\n\";\n",
    "            cout << \"\\t\" << this->s.getconductance() << \"\\n\";\n",
    "        };\n",
    "}\n"
   ]
  },
  {
   "cell_type": "code",
   "execution_count": null,
   "id": "129dce28",
   "metadata": {},
   "outputs": [],
   "source": [
    "Test t;\n",
    "t.test1();\n"
   ]
  }
 ],
 "metadata": {},
 "nbformat": 4,
 "nbformat_minor": 5
}
