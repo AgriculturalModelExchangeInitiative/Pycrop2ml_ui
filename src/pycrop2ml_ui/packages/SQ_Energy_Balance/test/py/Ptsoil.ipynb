{
 "cells": [
  {
   "cell_type": "markdown",
   "id": "0a840d38",
   "metadata": {},
   "source": [
    "# Automatic generation of Notebook using PyCropML\n",
    "    This notebook implements a crop model."
   ]
  },
  {
   "cell_type": "markdown",
   "id": "5296357f",
   "metadata": {},
   "source": [
    "### Model Ptsoil"
   ]
  },
  {
   "cell_type": "code",
   "execution_count": null,
   "id": "1dde4006",
   "metadata": {},
   "outputs": [],
   "source": [
    "import numpy\n",
    "from datetime import datetime\n",
    "import sys\n",
    "sys.path.append(\"../../src/py/SQ_Energy_Balance\")\n",
    "from Ptsoil import model_ptsoil\n"
   ]
  },
  {
   "cell_type": "code",
   "execution_count": null,
   "id": "863b749a",
   "metadata": {},
   "outputs": [],
   "source": [
    "params= model_ptsoil(\n",
    "    tau = 0.9983,\n",
    "    evapoTranspirationPriestlyTaylor = 449.367,\n",
    "     )\n",
    "energyLimitedEvaporation_estimated = round(params, 3)\n",
    "energyLimitedEvaporation_computed = 448.240\n",
    "assert (energyLimitedEvaporation_estimated == energyLimitedEvaporation_computed)"
   ]
  }
 ],
 "metadata": {},
 "nbformat": 4,
 "nbformat_minor": 5
}
