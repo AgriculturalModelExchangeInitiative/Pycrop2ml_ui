{
 "cells": [
  {
   "cell_type": "markdown",
   "id": "c63f6f2c",
   "metadata": {},
   "source": [
    "# Automatic generation of Notebook using PyCropML\n",
    "    This notebook implements a crop model."
   ]
  },
  {
   "cell_type": "markdown",
   "id": "3374ca39",
   "metadata": {},
   "source": [
    "### Model Canopytemperature"
   ]
  },
  {
   "cell_type": "code",
   "execution_count": 1,
   "id": "3d9a8537",
   "metadata": {},
   "outputs": [],
   "source": [
    "#include \"../../src/cpp/SQ_Energy_Balance/EnergybalanceState.cpp\"\n",
    "#include \"../../src/cpp/SQ_Energy_Balance/EnergybalanceRate.cpp\"\n",
    "#include \"../../src/cpp/SQ_Energy_Balance/EnergybalanceAuxiliary.cpp\"\n",
    "#include \"../../src/cpp/SQ_Energy_Balance/EnergybalanceExogenous.cpp\"\n",
    "#include \"../../src/cpp/SQ_Energy_Balance/Canopytemperature.cpp\"\n"
   ]
  },
  {
   "cell_type": "code",
   "execution_count": 2,
   "id": "0a27cf6b",
   "metadata": {},
   "outputs": [],
   "source": [
    "class Test\n",
    "{\n",
    "    private:\n",
    "        EnergybalanceState s;\n",
    "        EnergybalanceState s1;\n",
    "        EnergybalanceRate r;\n",
    "        EnergybalanceAuxiliary a;\n",
    "        EnergybalanceExogenous ex;\n",
    "        Canopytemperature mod;\n",
    "    public:\n",
    "        //first\n",
    "\n",
    "        // test1\n",
    "        void test1()\n",
    "        {\n",
    "            this->mod.setrhoDensityAir(1.225);\n",
    "            this->a.setminTair(0.7);\n",
    "            this->a.setmaxTair(7.2);\n",
    "            this->r.setcropHeatFlux(447.912);\n",
    "            this->s.setconductance(598.685);\n",
    "            this->mod.setlambdaV(2.454);\n",
    "            this->mod.setspecificHeatCapacityAir(0.00101);\n",
    "            this->mod.Calculate_Model(s,s1, r, a, ex);\n",
    "            //minCanopyTemperature: 2.184;\n",
    "            cout << \"minCanopyTemperature estimated :\\n\";\n",
    "            cout << \"\\t\" << this->s.getminCanopyTemperature() << \"\\n\";\n",
    "            //maxCanopyTemperature: 8.684;\n",
    "            cout << \"maxCanopyTemperature estimated :\\n\";\n",
    "            cout << \"\\t\" << this->s.getmaxCanopyTemperature() << \"\\n\";\n",
    "        };\n",
    "}\n"
   ]
  },
  {
   "cell_type": "code",
   "execution_count": 3,
   "id": "7403f24b",
   "metadata": {},
   "outputs": [
    {
     "name": "stdout",
     "output_type": "stream",
     "text": [
      "minCanopyTemperature estimated :\n",
      "\t2.18392\n",
      "maxCanopyTemperature estimated :\n",
      "\t8.68392\n"
     ]
    }
   ],
   "source": [
    "Test t;\n",
    "t.test1();\n"
   ]
  },
  {
   "cell_type": "code",
   "execution_count": null,
   "id": "f8442f17",
   "metadata": {},
   "outputs": [],
   "source": []
  }
 ],
 "metadata": {
  "kernelspec": {
   "display_name": "C++14",
   "language": "C++14",
   "name": "xcpp14"
  },
  "language_info": {
   "codemirror_mode": "text/x-c++src",
   "file_extension": ".cpp",
   "mimetype": "text/x-c++src",
   "name": "c++",
   "version": "14"
  }
 },
 "nbformat": 4,
 "nbformat_minor": 5
}
