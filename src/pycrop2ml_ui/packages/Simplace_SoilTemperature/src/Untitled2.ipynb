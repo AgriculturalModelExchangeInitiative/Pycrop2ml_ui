{
 "cells": [
  {
   "cell_type": "code",
   "execution_count": 14,
   "id": "93b16cab",
   "metadata": {},
   "outputs": [],
   "source": [
    "int x = 10;\n",
    "List<int> xx = Enumerable.Range(1, 11).ToList();"
   ]
  },
  {
   "cell_type": "code",
   "execution_count": 15,
   "id": "410e71e3",
   "metadata": {},
   "outputs": [
    {
     "data": {
      "text/html": [
       "<table><thead><tr><th><i>index</i></th><th>value</th></tr></thead><tbody><tr><td>0</td><td><div class=\"dni-plaintext\">0</div></td></tr><tr><td>1</td><td><div class=\"dni-plaintext\">1</div></td></tr><tr><td>2</td><td><div class=\"dni-plaintext\">2</div></td></tr><tr><td>3</td><td><div class=\"dni-plaintext\">3</div></td></tr><tr><td>4</td><td><div class=\"dni-plaintext\">4</div></td></tr><tr><td>5</td><td><div class=\"dni-plaintext\">5</div></td></tr><tr><td>6</td><td><div class=\"dni-plaintext\">6</div></td></tr><tr><td>7</td><td><div class=\"dni-plaintext\">7</div></td></tr><tr><td>8</td><td><div class=\"dni-plaintext\">8</div></td></tr><tr><td>9</td><td><div class=\"dni-plaintext\">9</div></td></tr></tbody></table>"
      ]
     },
     "execution_count": 15,
     "metadata": {},
     "output_type": "execute_result"
    }
   ],
   "source": [
    "xx"
   ]
  },
  {
   "cell_type": "code",
   "execution_count": 16,
   "id": "45b06dfa",
   "metadata": {},
   "outputs": [
    {
     "data": {
      "text/html": [
       "<div class=\"dni-plaintext\">5</div>"
      ]
     },
     "execution_count": 16,
     "metadata": {},
     "output_type": "execute_result"
    }
   ],
   "source": [
    "xx[5]"
   ]
  },
  {
   "cell_type": "code",
   "execution_count": 17,
   "id": "6eb3fa21",
   "metadata": {},
   "outputs": [],
   "source": [
    "xx.Add(56)"
   ]
  },
  {
   "cell_type": "code",
   "execution_count": 18,
   "id": "1cb24228",
   "metadata": {},
   "outputs": [
    {
     "data": {
      "text/html": [
       "<table><thead><tr><th><i>index</i></th><th>value</th></tr></thead><tbody><tr><td>0</td><td><div class=\"dni-plaintext\">0</div></td></tr><tr><td>1</td><td><div class=\"dni-plaintext\">1</div></td></tr><tr><td>2</td><td><div class=\"dni-plaintext\">2</div></td></tr><tr><td>3</td><td><div class=\"dni-plaintext\">3</div></td></tr><tr><td>4</td><td><div class=\"dni-plaintext\">4</div></td></tr><tr><td>5</td><td><div class=\"dni-plaintext\">5</div></td></tr><tr><td>6</td><td><div class=\"dni-plaintext\">6</div></td></tr><tr><td>7</td><td><div class=\"dni-plaintext\">7</div></td></tr><tr><td>8</td><td><div class=\"dni-plaintext\">8</div></td></tr><tr><td>9</td><td><div class=\"dni-plaintext\">9</div></td></tr><tr><td>10</td><td><div class=\"dni-plaintext\">56</div></td></tr></tbody></table>"
      ]
     },
     "execution_count": 18,
     "metadata": {},
     "output_type": "execute_result"
    }
   ],
   "source": [
    "xx"
   ]
  },
  {
   "cell_type": "code",
   "execution_count": null,
   "id": "35832bdf",
   "metadata": {},
   "outputs": [],
   "source": []
  },
  {
   "cell_type": "code",
   "execution_count": null,
   "id": "d5f656b9",
   "metadata": {},
   "outputs": [],
   "source": []
  },
  {
   "cell_type": "code",
   "execution_count": 57,
   "id": "3548f4bd",
   "metadata": {},
   "outputs": [],
   "source": [
    "var list2 = (from number in Enumerable.Range(1, 11) select Math.Exp(-number*8.22857842E-02)).ToArray();"
   ]
  },
  {
   "cell_type": "code",
   "execution_count": 58,
   "id": "ca5574a8",
   "metadata": {},
   "outputs": [
    {
     "data": {
      "text/html": [
       "<div class=\"dni-plaintext\">6</div>"
      ]
     },
     "execution_count": 58,
     "metadata": {},
     "output_type": "execute_result"
    }
   ],
   "source": [
    "list2[10]=6"
   ]
  },
  {
   "cell_type": "code",
   "execution_count": 59,
   "id": "c3455bcc",
   "metadata": {},
   "outputs": [
    {
     "data": {
      "text/html": [
       "<table><thead><tr><th><i>index</i></th><th>value</th></tr></thead><tbody><tr><td>0</td><td><div class=\"dni-plaintext\">0.9210087113444088</div></td></tr><tr><td>1</td><td><div class=\"dni-plaintext\">0.8482570463722885</div></td></tr><tr><td>2</td><td><div class=\"dni-plaintext\">0.7812521291681559</div></td></tr><tr><td>3</td><td><div class=\"dni-plaintext\">0.7195400167202388</div></td></tr><tr><td>4</td><td><div class=\"dni-plaintext\">0.6627026235602416</div></td></tr><tr><td>5</td><td><div class=\"dni-plaintext\">0.6103548893297769</div></td></tr><tr><td>6</td><td><div class=\"dni-plaintext\">0.5621421700843771</div></td></tr><tr><td>7</td><td><div class=\"dni-plaintext\">0.5177378356617616</div></td></tr><tr><td>8</td><td><div class=\"dni-plaintext\">0.47684105683708233</div></td></tr><tr><td>9</td><td><div class=\"dni-plaintext\">0.4391747672736272</div></td></tr><tr><td>10</td><td><div class=\"dni-plaintext\">6</div></td></tr></tbody></table>"
      ]
     },
     "execution_count": 59,
     "metadata": {},
     "output_type": "execute_result"
    }
   ],
   "source": [
    "list2"
   ]
  },
  {
   "cell_type": "code",
   "execution_count": null,
   "id": "4d1f0ccf",
   "metadata": {},
   "outputs": [],
   "source": []
  }
 ],
 "metadata": {
  "kernelspec": {
   "display_name": ".NET (C#)",
   "language": "C#",
   "name": ".net-csharp"
  },
  "language_info": {
   "file_extension": ".cs",
   "mimetype": "text/x-csharp",
   "name": "C#",
   "pygments_lexer": "csharp",
   "version": "9.0"
  }
 },
 "nbformat": 4,
 "nbformat_minor": 5
}
