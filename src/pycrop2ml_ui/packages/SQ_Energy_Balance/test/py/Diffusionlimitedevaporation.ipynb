{
 "cells": [
  {
   "cell_type": "markdown",
   "id": "1573b3ce",
   "metadata": {},
   "source": [
    "# Automatic generation of Notebook using PyCropML\n",
    "    This notebook implements a crop model."
   ]
  },
  {
   "cell_type": "markdown",
   "id": "80ed2ee0",
   "metadata": {},
   "source": [
    "### Model Diffusionlimitedevaporation"
   ]
  },
  {
   "cell_type": "code",
   "execution_count": null,
   "id": "2b1bf8db",
   "metadata": {},
   "outputs": [],
   "source": [
    "import numpy\n",
    "from datetime import datetime\n",
    "import sys\n",
    "sys.path.append(\"../../src/py/SQ_Energy_Balance\")\n",
    "from Diffusionlimitedevaporation import model_diffusionlimitedevaporation\n"
   ]
  },
  {
   "cell_type": "code",
   "execution_count": null,
   "id": "2dab02a7",
   "metadata": {},
   "outputs": [],
   "source": [
    "params= model_diffusionlimitedevaporation(\n",
    "    soilDiffusionConstant = 4.2,\n",
    "    deficitOnTopLayers = 5341,\n",
    "     )\n",
    "diffusionLimitedEvaporation_estimated = round(params, 3)\n",
    "diffusionLimitedEvaporation_computed = 6605.505\n",
    "assert (diffusionLimitedEvaporation_estimated == diffusionLimitedEvaporation_computed)"
   ]
  }
 ],
 "metadata": {},
 "nbformat": 4,
 "nbformat_minor": 5
}
