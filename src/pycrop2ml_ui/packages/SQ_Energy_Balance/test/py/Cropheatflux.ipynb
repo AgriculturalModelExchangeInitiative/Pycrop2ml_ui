{
 "cells": [
  {
   "cell_type": "markdown",
   "id": "b36c6a73",
   "metadata": {},
   "source": [
    "# Automatic generation of Notebook using PyCropML\n",
    "    This notebook implements a crop model."
   ]
  },
  {
   "cell_type": "markdown",
   "id": "2957a416",
   "metadata": {},
   "source": [
    "### Model Cropheatflux"
   ]
  },
  {
   "cell_type": "code",
   "execution_count": null,
   "id": "3169269a",
   "metadata": {},
   "outputs": [],
   "source": [
    "import numpy\n",
    "from datetime import datetime\n",
    "import sys\n",
    "sys.path.append(\"../../src/py/SQ_Energy_Balance\")\n",
    "from Cropheatflux import model_cropheatflux\n"
   ]
  },
  {
   "cell_type": "code",
   "execution_count": null,
   "id": "7d892310",
   "metadata": {},
   "outputs": [],
   "source": [
    "params= model_cropheatflux(\n",
    "    netRadiationEquivalentEvaporation = 638.142,\n",
    "    soilHeatFlux = 188.817,\n",
    "    potentialTranspiration =  1.413,\n",
    "     )\n",
    "cropHeatFlux_estimated = round(params, 3)\n",
    "cropHeatFlux_computed =  447.912\n",
    "assert (cropHeatFlux_estimated == cropHeatFlux_computed)"
   ]
  }
 ],
 "metadata": {},
 "nbformat": 4,
 "nbformat_minor": 5
}
