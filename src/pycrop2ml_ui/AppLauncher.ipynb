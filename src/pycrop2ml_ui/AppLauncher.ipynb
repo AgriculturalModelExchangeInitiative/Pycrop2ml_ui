{
 "cells": [
  {
   "cell_type": "code",
   "execution_count": 2,
   "metadata": {},
   "outputs": [
    {
     "data": {
      "application/vnd.jupyter.widget-view+json": {
       "model_id": "0a6b66c66cc04034a5f07c0780c7830b",
       "version_major": 2,
       "version_minor": 0
      },
      "text/plain": [
       "Output()"
      ]
     },
     "metadata": {},
     "output_type": "display_data"
    },
    {
     "data": {
      "application/vnd.jupyter.widget-view+json": {
       "model_id": "71e6a4c7a1d44504a546a5601a70b1ab",
       "version_major": 2,
       "version_minor": 0
      },
      "text/plain": [
       "Output()"
      ]
     },
     "metadata": {},
     "output_type": "display_data"
    }
   ],
   "source": [
    "from pycrop2ml_ui.model.MainMenu import main\n",
    "main()"
   ]
  },
  {
   "cell_type": "code",
   "execution_count": 9,
   "metadata": {},
   "outputs": [
    {
     "data": {
      "application/vnd.jupyter.widget-view+json": {
       "model_id": "4b73077b923c4df38926ba144565ce13",
       "version_major": 2,
       "version_minor": 0
      },
      "text/plain": [
       "Output()"
      ]
     },
     "metadata": {},
     "output_type": "display_data"
    }
   ],
   "source": [
    "import ipywidgets as wg\n",
    "from IPython.display import display\n",
    "_out = wg.Output()\n",
    "_titlemenu = wg.HTML(value='<font size=\"5\"><b>Model edition : File update</b></font>')\n",
    "_toggle_init = wg.ToggleButtons(options=[\"Yes\", \"No\"], value='No', description=\"Do you want to reset the initialization file ?\", disabled=False)\n",
    "_toggle_algo = wg.ToggleButtons(options=[\"Yes\", \"No\"], value='No', description=\"Do you want to reset the algorithm file ?\", disabled=False)\n",
    "_apply = wg.Button(value=False,description='Apply',disabled=False,button_style='success')\n",
    "\n",
    "display(_out)\n",
    "with _out:\n",
    "    display(wg.VBox([_titlemenu, _toggle_init, _toggle_algo, _apply], layout=wg.Layout(align_items='center')))"
   ]
  },
  {
   "cell_type": "code",
   "execution_count": 8,
   "metadata": {},
   "outputs": [
    {
     "data": {
      "text/plain": [
       "{'a': 1, 'b': 2}"
      ]
     },
     "execution_count": 8,
     "metadata": {},
     "output_type": "execute_result"
    }
   ],
   "source": [
    "d = dict(zip(['a','b'],[1,2]))\n",
    "d"
   ]
  },
  {
   "cell_type": "code",
   "execution_count": null,
   "metadata": {},
   "outputs": [],
   "source": []
  }
 ],
 "metadata": {
  "kernelspec": {
   "display_name": "Python 3",
   "language": "python",
   "name": "python3"
  },
  "language_info": {
   "codemirror_mode": {
    "name": "ipython",
    "version": 3
   },
   "file_extension": ".py",
   "mimetype": "text/x-python",
   "name": "python",
   "nbconvert_exporter": "python",
   "pygments_lexer": "ipython3",
   "version": "3.7.3"
  }
 },
 "nbformat": 4,
 "nbformat_minor": 2
}
