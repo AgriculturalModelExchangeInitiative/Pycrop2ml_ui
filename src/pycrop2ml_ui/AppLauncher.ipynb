{
 "cells": [
  {
   "cell_type": "code",
   "execution_count": 1,
   "metadata": {},
   "outputs": [
    {
     "data": {
      "application/vnd.jupyter.widget-view+json": {
       "model_id": "b5db308c33c84afbb1f36d60274065be",
       "version_major": 2,
       "version_minor": 0
      },
      "text/plain": [
       "Output()"
      ]
     },
     "metadata": {},
     "output_type": "display_data"
    },
    {
     "data": {
      "application/vnd.jupyter.widget-view+json": {
       "model_id": "cd400b4e9b0f4ca69b1829863bee4d80",
       "version_major": 2,
       "version_minor": 0
      },
      "text/plain": [
       "Output()"
      ]
     },
     "metadata": {},
     "output_type": "display_data"
    }
   ],
   "source": [
    "from pycrop2ml_ui.model.MainMenu import main\n",
    "main()"
   ]
  },
  {
   "cell_type": "code",
   "execution_count": 7,
   "metadata": {},
   "outputs": [
    {
     "name": "stdout",
     "output_type": "stream",
     "text": [
      "ModelComposition\n",
      "Description\n",
      "Composition\n",
      "Model\n",
      "Model\n",
      "Model\n",
      "Model\n",
      "Model\n",
      "Model\n",
      "Model\n",
      "Model\n",
      "Model\n",
      "Model\n",
      "Model\n",
      "Model\n",
      "Model\n",
      "link\n"
     ]
    },
    {
     "data": {
      "text/plain": [
       "'EnergyBalance'"
      ]
     },
     "execution_count": 7,
     "metadata": {},
     "output_type": "execute_result"
    }
   ],
   "source": [
    "from pycropml.topology import Topology\n",
    "path = Topology('energybalance_pkg', pkg='C:\\\\Users\\\\Romaric\\\\PyCrop2ML\\\\backup_example\\\\transpiler\\\\energybalance_pkg')"
   ]
  },
  {
   "cell_type": "code",
   "execution_count": 59,
   "metadata": {},
   "outputs": [
    {
     "name": "stdout",
     "output_type": "stream",
     "text": [
      "{'source': 'NetRadiation.netRadiation', 'target': 'netRadiation'}\n",
      "{'source': 'NetRadiation.netOutGoingLongWaveRadiation', 'target': 'netOutGoingLongWaveRadiation'}\n",
      "{'source': 'NetRadiationEquivalentEvaporation.netRadiationEquivalentEvaporation', 'target': 'netRadiationEquivalentEvaporation'}\n",
      "{'source': 'PriestlyTaylor.evapoTranspirationPriestlyTaylor', 'target': 'evapoTranspirationPriestlyTaylor'}\n",
      "{'source': 'DiffusionLimitedEvaporation.diffusionLimitedEvaporation', 'target': 'diffusionLimitedEvaporation'}\n",
      "{'source': 'PtSoil.energyLimitedEvaporation', 'target': 'energyLimitedEvaporation'}\n",
      "{'source': 'Conductance.conductance', 'target': 'conductance'}\n",
      "{'source': 'Penman.evapoTranspirationPenman', 'target': 'evapoTranspirationPenman'}\n",
      "{'source': 'SoilEvaporation.soilEvaporation', 'target': 'soilEvaporation'}\n",
      "{'source': 'EvapoTranspiration.evapoTranspiration', 'target': 'evapoTranspiration'}\n",
      "{'source': 'PotentialTranspiration.potentialTranspiration', 'target': 'potentialTranspiration'}\n",
      "{'source': 'SoilHeatFlux.soilHeatFlux', 'target': 'soilHeatFlux'}\n",
      "{'source': 'CropHeatFlux.cropHeatFlux', 'target': 'cropHeatFlux'}\n",
      "{'source': 'CanopyTemperature.minCanopyTemperature', 'target': 'minCanopyTemperature'}\n",
      "{'source': 'CanopyTemperature.maxCanopyTemperature', 'target': 'maxCanopyTemperature'}\n"
     ]
    }
   ],
   "source": [
    "for i in path.model.outputlink:\n",
    "    print(i)"
   ]
  },
  {
   "cell_type": "code",
   "execution_count": null,
   "metadata": {},
   "outputs": [],
   "source": []
  }
 ],
 "metadata": {
  "kernelspec": {
   "display_name": "Python 3",
   "language": "python",
   "name": "python3"
  },
  "language_info": {
   "codemirror_mode": {
    "name": "ipython",
    "version": 3
   },
   "file_extension": ".py",
   "mimetype": "text/x-python",
   "name": "python",
   "nbconvert_exporter": "python",
   "pygments_lexer": "ipython3",
   "version": "3.7.3"
  }
 },
 "nbformat": 4,
 "nbformat_minor": 2
}
