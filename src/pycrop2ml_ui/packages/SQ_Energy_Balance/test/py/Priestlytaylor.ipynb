{
 "cells": [
  {
   "cell_type": "markdown",
   "id": "8b6588da",
   "metadata": {},
   "source": [
    "# Automatic generation of Notebook using PyCropML\n",
    "    This notebook implements a crop model."
   ]
  },
  {
   "cell_type": "markdown",
   "id": "8499279a",
   "metadata": {},
   "source": [
    "### Model Priestlytaylor"
   ]
  },
  {
   "cell_type": "code",
   "execution_count": null,
   "id": "b8ae3722",
   "metadata": {},
   "outputs": [],
   "source": [
    "import numpy\n",
    "from datetime import datetime\n",
    "import sys\n",
    "sys.path.append(\"../../src/py/SQ_Energy_Balance\")\n",
    "from Priestlytaylor import model_priestlytaylor\n"
   ]
  },
  {
   "cell_type": "code",
   "execution_count": null,
   "id": "96a34889",
   "metadata": {},
   "outputs": [],
   "source": [
    "params= model_priestlytaylor(\n",
    "    Alpha = 1.5,\n",
    "    netRadiationEquivalentEvaporation = 638.142,\n",
    "     )\n",
    "evapoTranspirationPriestlyTaylor_estimated = round(params, 3)\n",
    "evapoTranspirationPriestlyTaylor_computed = 449.367\n",
    "assert (evapoTranspirationPriestlyTaylor_estimated == evapoTranspirationPriestlyTaylor_computed)"
   ]
  }
 ],
 "metadata": {},
 "nbformat": 4,
 "nbformat_minor": 5
}
