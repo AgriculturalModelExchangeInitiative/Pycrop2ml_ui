{
 "cells": [
  {
   "cell_type": "markdown",
   "id": "64e5fab3",
   "metadata": {},
   "source": [
    "# Automatic generation of Notebook using PyCropML\n",
    "    This notebook implements a crop model."
   ]
  },
  {
   "cell_type": "markdown",
   "id": "e930184d",
   "metadata": {},
   "source": [
    "### Model Soilevaporation"
   ]
  },
  {
   "cell_type": "code",
   "execution_count": null,
   "id": "715f526e",
   "metadata": {},
   "outputs": [],
   "source": [
    "#include \"../../src/cpp/SQ_Energy_Balance/EnergybalanceState.cpp\"\n",
    "#include \"../../src/cpp/SQ_Energy_Balance/EnergybalanceRate.cpp\"\n",
    "#include \"../../src/cpp/SQ_Energy_Balance/EnergybalanceAuxiliary.cpp\"\n",
    "#include \"../../src/cpp/SQ_Energy_Balance/EnergybalanceExogenous.cpp\"\n",
    "#include \"../../src/cpp/SQ_Energy_Balance/Soilevaporation.cpp\"\n"
   ]
  },
  {
   "cell_type": "code",
   "execution_count": null,
   "id": "d1b1f73f",
   "metadata": {},
   "outputs": [],
   "source": [
    "class Test\n",
    "{\n",
    "    private:\n",
    "        EnergybalanceState s;\n",
    "        EnergybalanceState s1;\n",
    "        EnergybalanceRate r;\n",
    "        EnergybalanceAuxiliary a;\n",
    "        EnergybalanceExogenous ex;\n",
    "        Soilevaporation mod;\n",
    "    public:\n",
    "        //first\n",
    "\n",
    "        // test1\n",
    "        void test1()\n",
    "        {\n",
    "            this->s.setdiffusionLimitedEvaporation(6605.505);\n",
    "            this->s.setenergyLimitedEvaporation(448.240);\n",
    "            this->mod.Calculate_Model(s,s1, r, a, ex);\n",
    "            //soilEvaporation: 448.240;\n",
    "            cout << \"soilEvaporation estimated :\\n\";\n",
    "            cout << \"\\t\" << this->a.getsoilEvaporation() << \"\\n\";\n",
    "        };\n",
    "}\n"
   ]
  },
  {
   "cell_type": "code",
   "execution_count": null,
   "id": "084dc17a",
   "metadata": {},
   "outputs": [],
   "source": [
    "Test t;\n",
    "t.test1();\n"
   ]
  }
 ],
 "metadata": {},
 "nbformat": 4,
 "nbformat_minor": 5
}
