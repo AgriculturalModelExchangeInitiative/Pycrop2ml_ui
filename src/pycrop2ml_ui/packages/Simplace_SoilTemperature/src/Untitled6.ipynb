{
 "cells": [
  {
   "cell_type": "code",
   "execution_count": 2,
   "id": "69c9e8b0",
   "metadata": {},
   "outputs": [],
   "source": [
    "final class toto {\n",
    "    private List<Integer> h;\n",
    "    public List<Integer> geth()\n",
    "    { return h; }\n",
    "\n",
    "    public void seth(List<Integer> _h)\n",
    "    { this.h= _h; } \n",
    "    \n",
    "    private Integer [] u;\n",
    "    public Integer [] getu()\n",
    "    { return u; }\n",
    "\n",
    "    public void setu(Integer [] _u)\n",
    "    { this.u= _u; } \n",
    "    \n",
    "    public toto(List<Integer> h,Integer [] u)\n",
    "    {\n",
    "        this.h = h;\n",
    "        this.u = u;\n",
    "    }\n",
    "}\n",
    "\n",
    "public class Test\n",
    "{\n",
    "    public toto Calculate_toto (Integer [] u)\n",
    "    {\n",
    "        List<Integer>h = new ArrayList <>(Arrays.asList(15));\n",
    "        List<Integer> g = new ArrayList<>(Arrays.asList());\n",
    "        Integer i;\n",
    "        i = new ArrayList<>(Arrays.asList(5, 15, 20)).stream().mapToInt(Integer::intValue).sum();\n",
    "        return new toto(h, u);\n",
    "    }\n",
    "}\n"
   ]
  },
  {
   "cell_type": "code",
   "execution_count": null,
   "id": "eedc8a5b",
   "metadata": {},
   "outputs": [],
   "source": []
  }
 ],
 "metadata": {
  "kernelspec": {
   "display_name": "Java",
   "language": "java",
   "name": "java"
  },
  "language_info": {
   "codemirror_mode": "java",
   "file_extension": ".jshell",
   "mimetype": "text/x-java-source",
   "name": "Java",
   "pygments_lexer": "java",
   "version": "11.0.15+10-Ubuntu-0ubuntu0.20.04.1"
  }
 },
 "nbformat": 4,
 "nbformat_minor": 5
}
