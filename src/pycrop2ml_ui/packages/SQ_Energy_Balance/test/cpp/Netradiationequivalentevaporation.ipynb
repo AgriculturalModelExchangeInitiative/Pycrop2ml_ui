{
 "cells": [
  {
   "cell_type": "markdown",
   "id": "2c9a4e36",
   "metadata": {},
   "source": [
    "# Automatic generation of Notebook using PyCropML\n",
    "    This notebook implements a crop model."
   ]
  },
  {
   "cell_type": "markdown",
   "id": "4c0ffa00",
   "metadata": {},
   "source": [
    "### Model Netradiationequivalentevaporation"
   ]
  },
  {
   "cell_type": "code",
   "execution_count": null,
   "id": "a257c90e",
   "metadata": {},
   "outputs": [],
   "source": [
    "#include \"../../src/cpp/SQ_Energy_Balance/EnergybalanceState.cpp\"\n",
    "#include \"../../src/cpp/SQ_Energy_Balance/EnergybalanceRate.cpp\"\n",
    "#include \"../../src/cpp/SQ_Energy_Balance/EnergybalanceAuxiliary.cpp\"\n",
    "#include \"../../src/cpp/SQ_Energy_Balance/EnergybalanceExogenous.cpp\"\n",
    "#include \"../../src/cpp/SQ_Energy_Balance/Netradiationequivalentevaporation.cpp\"\n"
   ]
  },
  {
   "cell_type": "code",
   "execution_count": null,
   "id": "fb88f930",
   "metadata": {},
   "outputs": [],
   "source": [
    "class Test\n",
    "{\n",
    "    private:\n",
    "        EnergybalanceState s;\n",
    "        EnergybalanceState s1;\n",
    "        EnergybalanceRate r;\n",
    "        EnergybalanceAuxiliary a;\n",
    "        EnergybalanceExogenous ex;\n",
    "        Netradiationequivalentevaporation mod;\n",
    "    public:\n",
    "        //first\n",
    "\n",
    "        // test1\n",
    "        void test1()\n",
    "        {\n",
    "            this->s.setnetRadiation(1.566);\n",
    "            this->mod.setlambdaV(2.454);\n",
    "            this->mod.Calculate_Model(s,s1, r, a, ex);\n",
    "            //netRadiationEquivalentEvaporation: 638.142;\n",
    "            cout << \"netRadiationEquivalentEvaporation estimated :\\n\";\n",
    "            cout << \"\\t\" << this->a.getnetRadiationEquivalentEvaporation() << \"\\n\";\n",
    "        };\n",
    "}\n"
   ]
  },
  {
   "cell_type": "code",
   "execution_count": null,
   "id": "127d0d01",
   "metadata": {},
   "outputs": [],
   "source": [
    "Test t;\n",
    "t.test1();\n"
   ]
  }
 ],
 "metadata": {},
 "nbformat": 4,
 "nbformat_minor": 5
}
