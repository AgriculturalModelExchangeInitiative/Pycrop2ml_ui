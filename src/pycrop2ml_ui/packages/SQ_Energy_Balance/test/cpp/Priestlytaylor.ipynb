{
 "cells": [
  {
   "cell_type": "markdown",
   "id": "423b89b7",
   "metadata": {},
   "source": [
    "# Automatic generation of Notebook using PyCropML\n",
    "    This notebook implements a crop model."
   ]
  },
  {
   "cell_type": "markdown",
   "id": "216080c0",
   "metadata": {},
   "source": [
    "### Model Priestlytaylor"
   ]
  },
  {
   "cell_type": "code",
   "execution_count": null,
   "id": "aadb1646",
   "metadata": {},
   "outputs": [],
   "source": [
    "#include \"../../src/cpp/SQ_Energy_Balance/EnergybalanceState.cpp\"\n",
    "#include \"../../src/cpp/SQ_Energy_Balance/EnergybalanceRate.cpp\"\n",
    "#include \"../../src/cpp/SQ_Energy_Balance/EnergybalanceAuxiliary.cpp\"\n",
    "#include \"../../src/cpp/SQ_Energy_Balance/EnergybalanceExogenous.cpp\"\n",
    "#include \"../../src/cpp/SQ_Energy_Balance/Priestlytaylor.cpp\"\n"
   ]
  },
  {
   "cell_type": "code",
   "execution_count": null,
   "id": "19ec86c7",
   "metadata": {},
   "outputs": [],
   "source": [
    "class Test\n",
    "{\n",
    "    private:\n",
    "        EnergybalanceState s;\n",
    "        EnergybalanceState s1;\n",
    "        EnergybalanceRate r;\n",
    "        EnergybalanceAuxiliary a;\n",
    "        EnergybalanceExogenous ex;\n",
    "        Priestlytaylor mod;\n",
    "    public:\n",
    "        //first\n",
    "\n",
    "        // test1\n",
    "        void test1()\n",
    "        {\n",
    "            this->mod.setAlpha(1.5);\n",
    "            this->s.setnetRadiationEquivalentEvaporation(638.142);\n",
    "            this->a.sethslope(0.584);\n",
    "            this->mod.setpsychrometricConstant(0.66);\n",
    "            this->mod.Calculate_Model(s,s1, r, a, ex);\n",
    "            //evapoTranspirationPriestlyTaylor: 449.367;\n",
    "            cout << \"evapoTranspirationPriestlyTaylor estimated :\\n\";\n",
    "            cout << \"\\t\" << this->r.getevapoTranspirationPriestlyTaylor() << \"\\n\";\n",
    "        };\n",
    "}\n"
   ]
  },
  {
   "cell_type": "code",
   "execution_count": null,
   "id": "c07aa363",
   "metadata": {},
   "outputs": [],
   "source": [
    "Test t;\n",
    "t.test1();\n"
   ]
  }
 ],
 "metadata": {},
 "nbformat": 4,
 "nbformat_minor": 5
}
