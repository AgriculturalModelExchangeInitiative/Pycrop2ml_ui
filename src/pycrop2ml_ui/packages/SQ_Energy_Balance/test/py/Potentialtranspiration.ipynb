{
 "cells": [
  {
   "cell_type": "markdown",
   "id": "6ec4e6f2",
   "metadata": {},
   "source": [
    "# Automatic generation of Notebook using PyCropML\n",
    "    This notebook implements a crop model."
   ]
  },
  {
   "cell_type": "markdown",
   "id": "d7245e18",
   "metadata": {},
   "source": [
    "### Model Potentialtranspiration"
   ]
  },
  {
   "cell_type": "code",
   "execution_count": null,
   "id": "33db577b",
   "metadata": {},
   "outputs": [],
   "source": [
    "import numpy\n",
    "from datetime import datetime\n",
    "import sys\n",
    "sys.path.append(\"../../src/py/SQ_Energy_Balance\")\n",
    "from Potentialtranspiration import model_potentialtranspiration\n"
   ]
  },
  {
   "cell_type": "code",
   "execution_count": null,
   "id": "67a9a6b4",
   "metadata": {},
   "outputs": [],
   "source": [
    "params= model_potentialtranspiration(\n",
    "    tau = 0.9983,\n",
    "    evapoTranspiration = 830.958,\n",
    "     )\n",
    "potentialTranspiration_estimated = round(params, 3)\n",
    "potentialTranspiration_computed = 1.413\n",
    "assert (potentialTranspiration_estimated == potentialTranspiration_computed)"
   ]
  }
 ],
 "metadata": {},
 "nbformat": 4,
 "nbformat_minor": 5
}
