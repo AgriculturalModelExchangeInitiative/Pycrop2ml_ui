{
 "cells": [
  {
   "cell_type": "code",
   "execution_count": 3,
   "metadata": {},
   "outputs": [
    {
     "data": {
      "application/vnd.jupyter.widget-view+json": {
       "model_id": "488888d5341e4bcab5c0247ab4aa728d",
       "version_major": 2,
       "version_minor": 0
      },
      "text/plain": [
       "Output()"
      ]
     },
     "metadata": {},
     "output_type": "display_data"
    },
    {
     "data": {
      "application/vnd.jupyter.widget-view+json": {
       "model_id": "74aacfb2ef4447f5ace8496a48e4cdd3",
       "version_major": 2,
       "version_minor": 0
      },
      "text/plain": [
       "Output()"
      ]
     },
     "metadata": {},
     "output_type": "display_data"
    }
   ],
   "source": [
    "from pycrop2ml_ui.model.MainMenu import main\n",
    "main()"
   ]
  },
  {
   "cell_type": "code",
   "execution_count": 3,
   "metadata": {},
   "outputs": [
    {
     "name": "stdout",
     "output_type": "stream",
     "text": [
      "ModelComposition\n",
      "Description\n",
      "Composition\n",
      "Model\n",
      "Model\n",
      "Model\n",
      "Model\n",
      "Model\n",
      "Model\n",
      "Model\n",
      "Model\n",
      "Model\n",
      "Model\n",
      "Model\n",
      "Model\n",
      "Model\n",
      "link\n"
     ]
    }
   ],
   "source": [
    "from pycropml.composition import model_parser\n",
    "path, = model_parser('C:\\\\Users\\\\Romaric\\\\PyCrop2ML\\\\backup_example\\\\transpiler\\\\energybalance_pkg\\\\crop2ml\\\\composition.EnergyBalance.xml')"
   ]
  },
  {
   "cell_type": "code",
   "execution_count": 4,
   "metadata": {},
   "outputs": [
    {
     "data": {
      "text/plain": [
       "'minTair'"
      ]
     },
     "execution_count": 4,
     "metadata": {},
     "output_type": "execute_result"
    }
   ],
   "source": [
    "from pycropml.pparse import model_parser\n",
    "parse = model_parser('C:\\\\Users\\\\Romaric\\\\PyCrop2ML\\\\backup_example\\\\transpiler\\\\energybalance_pkg')\n",
    "parse[0].inputs[0].name"
   ]
  },
  {
   "cell_type": "code",
   "execution_count": null,
   "metadata": {},
   "outputs": [],
   "source": []
  }
 ],
 "metadata": {
  "kernelspec": {
   "display_name": "Python 3",
   "language": "python",
   "name": "python3"
  },
  "language_info": {
   "codemirror_mode": {
    "name": "ipython",
    "version": 3
   },
   "file_extension": ".py",
   "mimetype": "text/x-python",
   "name": "python",
   "nbconvert_exporter": "python",
   "pygments_lexer": "ipython3",
   "version": "3.7.3"
  }
 },
 "nbformat": 4,
 "nbformat_minor": 2
}
