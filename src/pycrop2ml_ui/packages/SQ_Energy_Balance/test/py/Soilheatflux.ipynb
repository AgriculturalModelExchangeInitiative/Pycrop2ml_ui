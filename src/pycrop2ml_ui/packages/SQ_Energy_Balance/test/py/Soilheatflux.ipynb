{
 "cells": [
  {
   "cell_type": "markdown",
   "id": "dc68b4d4",
   "metadata": {},
   "source": [
    "# Automatic generation of Notebook using PyCropML\n",
    "    This notebook implements a crop model."
   ]
  },
  {
   "cell_type": "markdown",
   "id": "26f25e13",
   "metadata": {},
   "source": [
    "### Model Soilheatflux"
   ]
  },
  {
   "cell_type": "code",
   "execution_count": null,
   "id": "76590002",
   "metadata": {},
   "outputs": [],
   "source": [
    "import numpy\n",
    "from datetime import datetime\n",
    "import sys\n",
    "sys.path.append(\"../../src/py/SQ_Energy_Balance\")\n",
    "from Soilheatflux import model_soilheatflux\n"
   ]
  },
  {
   "cell_type": "code",
   "execution_count": null,
   "id": "39c96486",
   "metadata": {},
   "outputs": [],
   "source": [
    "params= model_soilheatflux(\n",
    "    tau = 0.9983,\n",
    "    netRadiationEquivalentEvaporation = 638.142,\n",
    "    soilEvaporation = 448.240,\n",
    "     )\n",
    "soilHeatFlux_estimated = round(params, 3)\n",
    "soilHeatFlux_computed = 188.817\n",
    "assert (soilHeatFlux_estimated == soilHeatFlux_computed)"
   ]
  }
 ],
 "metadata": {},
 "nbformat": 4,
 "nbformat_minor": 5
}
