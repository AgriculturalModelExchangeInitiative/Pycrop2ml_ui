{
 "cells": [
  {
   "cell_type": "code",
   "execution_count": 1,
   "metadata": {},
   "outputs": [
    {
     "data": {
      "application/vnd.jupyter.widget-view+json": {
       "model_id": "7fda23ace4d6453b870fc11b0753ff32",
       "version_major": 2,
       "version_minor": 0
      },
      "text/plain": [
       "Output()"
      ]
     },
     "metadata": {},
     "output_type": "display_data"
    },
    {
     "data": {
      "application/vnd.jupyter.widget-view+json": {
       "model_id": "c380c8472f3040dda2a5586bf989578d",
       "version_major": 2,
       "version_minor": 0
      },
      "text/plain": [
       "Output()"
      ]
     },
     "metadata": {},
     "output_type": "display_data"
    }
   ],
   "source": [
    "from pycrop2ml_ui.model.MainMenu import main\n",
    "main()"
   ]
  },
  {
   "cell_type": "code",
   "execution_count": 9,
   "metadata": {},
   "outputs": [
    {
     "data": {
      "application/vnd.jupyter.widget-view+json": {
       "model_id": "4b73077b923c4df38926ba144565ce13",
       "version_major": 2,
       "version_minor": 0
      },
      "text/plain": [
       "Output()"
      ]
     },
     "metadata": {},
     "output_type": "display_data"
    }
   ],
   "source": [
    "import ipywidgets as wg\n",
    "from IPython.display import display\n",
    "_out = wg.Output()\n",
    "_titlemenu = wg.HTML(value='<font size=\"5\"><b>Model edition : File update</b></font>')\n",
    "_toggle_init = wg.ToggleButtons(options=[\"Yes\", \"No\"], value='No', description=\"Do you want to reset the initialization file ?\", disabled=False)\n",
    "_toggle_algo = wg.ToggleButtons(options=[\"Yes\", \"No\"], value='No', description=\"Do you want to reset the algorithm file ?\", disabled=False)\n",
    "_apply = wg.Button(value=False,description='Apply',disabled=False,button_style='success')\n",
    "\n",
    "display(_out)\n",
    "with _out:\n",
    "    display(wg.VBox([_titlemenu, _toggle_init, _toggle_algo, _apply], layout=wg.Layout(align_items='center')))"
   ]
  },
  {
   "cell_type": "code",
   "execution_count": 8,
   "metadata": {},
   "outputs": [
    {
     "data": {
      "text/plain": [
       "{'a': 1, 'b': 2}"
      ]
     },
     "execution_count": 8,
     "metadata": {},
     "output_type": "execute_result"
    }
   ],
   "source": [
    "d = dict(zip(['a','b'],[1,2]))\n",
    "d"
   ]
  },
  {
   "cell_type": "code",
   "execution_count": 5,
   "metadata": {},
   "outputs": [
    {
     "name": "stdout",
     "output_type": "stream",
     "text": [
      "C:\\Users\\Romaric\\PyCrop2ML\\backup_example\\transpiler\\energybalance_pkg\\crop2ml\\unit.z.xml is NOT in CropML Format ! [Errno 2] No such file or directory: Path('C:\\\\Users\\\\Romaric\\\\PyCrop2ML\\\\backup_example\\\\transpiler\\\\energybalance_pkg\\\\crop2ml\\\\algo/pyx/zz.pyx')\n"
     ]
    }
   ],
   "source": [
    "pk=\"C:\\\\Users\\\\Romaric\\\\PyCrop2ML\\\\backup_example\\\\transpiler\\\\energybalance_pkg\"\n",
    "from pycropml.pparse import model_parser\n",
    "parse = model_parser(pk)"
   ]
  },
  {
   "cell_type": "code",
   "execution_count": null,
   "metadata": {},
   "outputs": [],
   "source": []
  }
 ],
 "metadata": {
  "kernelspec": {
   "display_name": "Python 3",
   "language": "python",
   "name": "python3"
  },
  "language_info": {
   "codemirror_mode": {
    "name": "ipython",
    "version": 3
   },
   "file_extension": ".py",
   "mimetype": "text/x-python",
   "name": "python",
   "nbconvert_exporter": "python",
   "pygments_lexer": "ipython3",
   "version": "3.7.3"
  }
 },
 "nbformat": 4,
 "nbformat_minor": 2
}
