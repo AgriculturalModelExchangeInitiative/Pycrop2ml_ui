{
 "cells": [
  {
   "cell_type": "code",
   "execution_count": 1,
   "id": "ahead-tuesday",
   "metadata": {},
   "outputs": [],
   "source": [
    "from cookiecutter.main import cookiecutter "
   ]
  },
  {
   "cell_type": "code",
   "execution_count": null,
   "id": "sharing-cooper",
   "metadata": {},
   "outputs": [],
   "source": [
    "cookiecutter(\"https://github.com/AgriculturalModelExchangeInitiative/cookiecutter-crop2ml\", \n",
    "              no_input=True, extra_context={'project_name':\"self._projectName.value\", \n",
    "                                            'repo_name':\"ttt\",\n",
    "                                            'author_name':\"self._authors.value\",\n",
    "                                            'description':\"self._description.value\", \n",
    "                                            'open_source_license':\"self._license.value\"},\n",
    "              output_dir=\"c:\\\\users\")"
   ]
  },
  {
   "cell_type": "code",
   "execution_count": null,
   "id": "drawn-midwest",
   "metadata": {},
   "outputs": [],
   "source": []
  }
 ],
 "metadata": {
  "kernelspec": {
   "display_name": "Python 3",
   "language": "python",
   "name": "python3"
  },
  "language_info": {
   "codemirror_mode": {
    "name": "ipython",
    "version": 3
   },
   "file_extension": ".py",
   "mimetype": "text/x-python",
   "name": "python",
   "nbconvert_exporter": "python",
   "pygments_lexer": "ipython3",
   "version": "3.7.7"
  }
 },
 "nbformat": 4,
 "nbformat_minor": 5
}
