{
 "cells": [
  {
   "cell_type": "code",
   "execution_count": 21,
   "id": "85c37482",
   "metadata": {},
   "outputs": [],
   "source": [
    "public class Test\n",
    "{\n",
    "    public toto Calculate_toto (Integer [] u)\n",
    "    {\n",
    "        List<Integer>h = new ArrayList <>(Arrays.asList(15));\n",
    "        List<Integer> g = new ArrayList<>(Arrays.asList());\n",
    "        Integer i;\n",
    "        i = new ArrayList<>(Arrays.asList(5, 15, 20)).stream().mapToInt(Integer::intValue).sum();\n",
    "        return new toto(h, u);\n",
    "    }\n",
    "}\n",
    "final class toto {\n",
    "    private List<Integer> h;\n",
    "    public List<Integer> geth()\n",
    "    { return h; }\n",
    "\n",
    "    public void seth(List<Integer> _h)\n",
    "    { this.h= _h; } \n",
    "    \n",
    "    private Integer [] u;\n",
    "    public Integer [] getu()\n",
    "    { return u; }\n",
    "\n",
    "    public void setu(Integer [] _u)\n",
    "    { this.u= _u; } \n",
    "    \n",
    "    public toto(List<Integer> h,Integer [] u)\n",
    "    {\n",
    "        this.h = h;\n",
    "        this.u = u;\n",
    "    }\n",
    "}"
   ]
  },
  {
   "cell_type": "code",
   "execution_count": 2,
   "id": "8b767057",
   "metadata": {},
   "outputs": [],
   "source": [
    "final class toto {\n",
    "    private List<Integer> h;\n",
    "    public List<Integer> geth()\n",
    "    { return h; }\n",
    "\n",
    "    public void seth(List<Integer> _h)\n",
    "    { this.h= _h; } \n",
    "    \n",
    "    private Integer [] u;\n",
    "    public Integer [] getu()\n",
    "    { return u; }\n",
    "\n",
    "    public void setu(Integer [] _u)\n",
    "    { this.u= _u; } \n",
    "    \n",
    "    public toto(List<Integer> h,Integer [] u)\n",
    "    {\n",
    "        this.h = h;\n",
    "        this.u = u;\n",
    "    }\n",
    "}"
   ]
  },
  {
   "cell_type": "code",
   "execution_count": 8,
   "id": "19ee9040",
   "metadata": {},
   "outputs": [],
   "source": [
    "List<Integer> h = Arrays.asList(15,20);\n",
    "Integer [] u = new Integer[]{15,20};\n"
   ]
  },
  {
   "cell_type": "code",
   "execution_count": 9,
   "id": "0bab197a",
   "metadata": {},
   "outputs": [],
   "source": [
    "toto t = new toto(h, u)"
   ]
  },
  {
   "cell_type": "code",
   "execution_count": null,
   "id": "0e9afa8f",
   "metadata": {},
   "outputs": [],
   "source": []
  },
  {
   "cell_type": "code",
   "execution_count": 13,
   "id": "8fc942d2",
   "metadata": {},
   "outputs": [
    {
     "data": {
      "text/plain": [
       "15"
      ]
     },
     "execution_count": 13,
     "metadata": {},
     "output_type": "execute_result"
    }
   ],
   "source": [
    "t.getu()[0]"
   ]
  },
  {
   "cell_type": "code",
   "execution_count": 15,
   "id": "85755ecf",
   "metadata": {},
   "outputs": [],
   "source": [
    "public class Test\n",
    "{\n",
    "    public toto Calculate_toto (Integer [] u)\n",
    "    {\n",
    "        List<Integer>h = new ArrayList <>(Arrays.asList(15));\n",
    "        List<Integer> g = new ArrayList<>(Arrays.asList());\n",
    "        Integer i;\n",
    "        i = new ArrayList<>(Arrays.asList(5, 15, 20)).stream().mapToInt(Integer::intValue).sum();\n",
    "        return new toto(h, u);\n",
    "    }\n",
    "}\n"
   ]
  },
  {
   "cell_type": "code",
   "execution_count": 17,
   "id": "b2be2672",
   "metadata": {},
   "outputs": [],
   "source": [
    "Test tt = new Test()"
   ]
  },
  {
   "cell_type": "code",
   "execution_count": 20,
   "id": "13bd641f",
   "metadata": {},
   "outputs": [
    {
     "data": {
      "text/plain": [
       "15"
      ]
     },
     "execution_count": 20,
     "metadata": {},
     "output_type": "execute_result"
    }
   ],
   "source": [
    "tt.Calculate_toto(u).getu()[0]"
   ]
  },
  {
   "cell_type": "code",
   "execution_count": null,
   "id": "25af5257",
   "metadata": {},
   "outputs": [],
   "source": []
  }
 ],
 "metadata": {
  "kernelspec": {
   "display_name": "Java",
   "language": "java",
   "name": "java"
  },
  "language_info": {
   "codemirror_mode": "java",
   "file_extension": ".jshell",
   "mimetype": "text/x-java-source",
   "name": "Java",
   "pygments_lexer": "java",
   "version": "11.0.15+10-Ubuntu-0ubuntu0.20.04.1"
  }
 },
 "nbformat": 4,
 "nbformat_minor": 5
}
